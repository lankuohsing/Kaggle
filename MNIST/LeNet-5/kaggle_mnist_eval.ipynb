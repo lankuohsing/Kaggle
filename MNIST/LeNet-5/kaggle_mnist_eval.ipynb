{
 "cells": [
  {
   "cell_type": "code",
   "execution_count": 37,
   "metadata": {
    "collapsed": true
   },
   "outputs": [],
   "source": [
    "# In[]\n",
    "import pandas as pd\n",
    "import time\n",
    "import numpy as np\n",
    "import tensorflow as tf\n",
    "from tensorflow.examples.tutorials.mnist import input_data\n",
    "import kaggle_mnist_input_data\n",
    "# 加载mnist_inference.py 和 kaggle_mnist_train.py中定义的常量和函数\n",
    "import kaggle_mnist_inference\n",
    "import kaggle_mnist_train\n"
   ]
  },
  {
   "cell_type": "code",
   "execution_count": 38,
   "metadata": {
    "collapsed": true
   },
   "outputs": [],
   "source": [
    "# In[]\n",
    "\n",
    "#train_filename='../input/train.csv'\n",
    "#(train_images,train_labels,num_train,num_feature)=kaggle_mnist_input_data.read_train_data(train_filename)\n",
    "test_filename='../input/test.csv'\n",
    "(test_images,num_test,num_feature)=kaggle_mnist_input_data.read_test_data(test_filename)\n",
    "#将DataFrame转化为Matrix\n",
    "#training_images=train_images.as_matrix()\n",
    "#training_labels=train_labels.as_matrix()\n",
    "testing_images=test_images.as_matrix().astype('float32')/255.0\n",
    "testing_images1=testing_images[0:700,:]\n"
   ]
  },
  {
   "cell_type": "code",
   "execution_count": 50,
   "metadata": {},
   "outputs": [],
   "source": [
    "testing_images1=testing_images[700:1400,:]"
   ]
  },
  {
   "cell_type": "code",
   "execution_count": 51,
   "metadata": {},
   "outputs": [
    {
     "data": {
      "text/plain": [
       "(700, 784)"
      ]
     },
     "execution_count": 51,
     "metadata": {},
     "output_type": "execute_result"
    }
   ],
   "source": [
    "testing_images1.shape\n"
   ]
  },
  {
   "cell_type": "code",
   "execution_count": 42,
   "metadata": {
    "collapsed": true
   },
   "outputs": [],
   "source": [
    "x = tf.placeholder(tf.float32, shape=(num_test, 28, 28, 1), name='x1-input')"
   ]
  },
  {
   "cell_type": "code",
   "execution_count": 52,
   "metadata": {},
   "outputs": [],
   "source": [
    "a=np.array([[1,2]])\n",
    "for i in range(1,40):\n",
    "    a=np.vstack((a,[[i,2*i]]))"
   ]
  },
  {
   "cell_type": "code",
   "execution_count": 53,
   "metadata": {},
   "outputs": [
    {
     "data": {
      "text/plain": [
       "array([[ 1,  2],\n",
       "       [ 1,  2],\n",
       "       [ 2,  4],\n",
       "       [ 3,  6],\n",
       "       [ 4,  8],\n",
       "       [ 5, 10],\n",
       "       [ 6, 12],\n",
       "       [ 7, 14],\n",
       "       [ 8, 16],\n",
       "       [ 9, 18],\n",
       "       [10, 20],\n",
       "       [11, 22],\n",
       "       [12, 24],\n",
       "       [13, 26],\n",
       "       [14, 28],\n",
       "       [15, 30],\n",
       "       [16, 32],\n",
       "       [17, 34],\n",
       "       [18, 36],\n",
       "       [19, 38],\n",
       "       [20, 40],\n",
       "       [21, 42],\n",
       "       [22, 44],\n",
       "       [23, 46],\n",
       "       [24, 48],\n",
       "       [25, 50],\n",
       "       [26, 52],\n",
       "       [27, 54],\n",
       "       [28, 56],\n",
       "       [29, 58],\n",
       "       [30, 60],\n",
       "       [31, 62],\n",
       "       [32, 64],\n",
       "       [33, 66],\n",
       "       [34, 68],\n",
       "       [35, 70],\n",
       "       [36, 72],\n",
       "       [37, 74],\n",
       "       [38, 76],\n",
       "       [39, 78]])"
      ]
     },
     "execution_count": 53,
     "metadata": {},
     "output_type": "execute_result"
    }
   ],
   "source": [
    "a"
   ]
  },
  {
   "cell_type": "code",
   "execution_count": null,
   "metadata": {
    "collapsed": true
   },
   "outputs": [],
   "source": []
  }
 ],
 "metadata": {
  "kernelspec": {
   "display_name": "Python 2",
   "language": "python",
   "name": "python2"
  },
  "language_info": {
   "codemirror_mode": {
    "name": "ipython",
    "version": 2
   },
   "file_extension": ".py",
   "mimetype": "text/x-python",
   "name": "python",
   "nbconvert_exporter": "python",
   "pygments_lexer": "ipython2",
   "version": "2.7.12"
  }
 },
 "nbformat": 4,
 "nbformat_minor": 2
}
